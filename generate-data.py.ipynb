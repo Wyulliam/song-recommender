{
 "cells": [
  {
   "cell_type": "code",
   "execution_count": 95,
   "id": "7d7fc866",
   "metadata": {
    "scrolled": false
   },
   "outputs": [],
   "source": [
    "import pandas as pd\n",
    "import csv\n",
    "import random\n",
    "\n",
    "songs = pd.read_csv('possible-songs.csv')\n",
    "\n",
    "with open('song-data.csv', 'w', encoding='UTF8', newline='') as file:\n",
    "    header = ['Listening To Id', 'Listening To Song', 'Artist', 'Genre', 'Recommended Id', 'Recommended Song', 'Artist', 'Genre']    \n",
    "    writer = csv.writer(file)\n",
    "    writer.writerow(header)\n",
    "    \n",
    "    for song in songs.values:\n",
    "        \n",
    "        total_data = random.randint(50,200)\n",
    "        \n",
    "        for _ in range(total_data):\n",
    "            songs_to_use = songs.values\n",
    "\n",
    "            #30% chance to listen to the same song\n",
    "            same_song = random.random() < 0.10\n",
    "            if same_song:\n",
    "                songs_to_use = list(filter(lambda s: s[0] == song[0], songs_to_use))\n",
    "            else:\n",
    "                songs_to_use = list(filter(lambda s: s[0] != song[0], songs_to_use))\n",
    "                \n",
    "            #60% chance to get song with same artist\n",
    "            same_artist = random.random() < 0.60\n",
    "            if same_artist and not same_song :\n",
    "                songs_to_use = list(filter(lambda s: s[2] == song[2], songs_to_use))\n",
    "\n",
    "            #75% chance to get song with same genre\n",
    "            same_genre = random.random() < 0.75\n",
    "            if same_genre and not same_song:\n",
    "                songs_to_use = list(filter(lambda s: s[3] == song[3], songs_to_use))\n",
    "\n",
    "                \n",
    "            if len(songs_to_use):\n",
    "                recommended_song = random.choice(songs_to_use)\n",
    "            else:\n",
    "                recommended_song = random.choice(songs.values)\n",
    "                \n",
    "            listening_to_row = [song[0], song[1], song[2], song[3]]\n",
    "            recommended_song_row = [recommended_song[0],recommended_song[1],recommended_song[2],recommended_song[3]]\n",
    "\n",
    "            writer.writerow(listening_to_row + recommended_song_row)\n",
    "        \n"
   ]
  }
 ],
 "metadata": {
  "kernelspec": {
   "display_name": "Python 3 (ipykernel)",
   "language": "python",
   "name": "python3"
  },
  "language_info": {
   "codemirror_mode": {
    "name": "ipython",
    "version": 3
   },
   "file_extension": ".py",
   "mimetype": "text/x-python",
   "name": "python",
   "nbconvert_exporter": "python",
   "pygments_lexer": "ipython3",
   "version": "3.9.12"
  }
 },
 "nbformat": 4,
 "nbformat_minor": 5
}
